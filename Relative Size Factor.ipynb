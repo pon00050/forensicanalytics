{
 "cells": [
  {
   "cell_type": "markdown",
   "metadata": {},
   "source": [
    "#### The Largest Subsets Test"
   ]
  },
  {
   "cell_type": "code",
   "execution_count": 1,
   "metadata": {},
   "outputs": [
    {
     "data": {
      "text/html": [
       "<div>\n",
       "<style scoped>\n",
       "    .dataframe tbody tr th:only-of-type {\n",
       "        vertical-align: middle;\n",
       "    }\n",
       "\n",
       "    .dataframe tbody tr th {\n",
       "        vertical-align: top;\n",
       "    }\n",
       "\n",
       "    .dataframe thead th {\n",
       "        text-align: right;\n",
       "    }\n",
       "</style>\n",
       "<table border=\"1\" class=\"dataframe\">\n",
       "  <thead>\n",
       "    <tr style=\"text-align: right;\">\n",
       "      <th></th>\n",
       "      <th>Date</th>\n",
       "      <th>Amount</th>\n",
       "      <th>Merchant</th>\n",
       "      <th>State</th>\n",
       "      <th>Description</th>\n",
       "      <th>Agency</th>\n",
       "      <th>Year</th>\n",
       "    </tr>\n",
       "  </thead>\n",
       "  <tbody>\n",
       "    <tr>\n",
       "      <th>0</th>\n",
       "      <td>2009-01-02</td>\n",
       "      <td>1700.00</td>\n",
       "      <td>WASHINGTON HISPANIC</td>\n",
       "      <td>MD</td>\n",
       "      <td>Advertising Services</td>\n",
       "      <td>Department of Motor Vehicles</td>\n",
       "      <td>2009</td>\n",
       "    </tr>\n",
       "    <tr>\n",
       "      <th>1</th>\n",
       "      <td>2009-01-02</td>\n",
       "      <td>23.16</td>\n",
       "      <td>STAPLES DIRECT00209908</td>\n",
       "      <td>CA</td>\n",
       "      <td>Stationery,Office Supplies,Printing/Writing Paper</td>\n",
       "      <td>Metropolitan Police Department</td>\n",
       "      <td>2009</td>\n",
       "    </tr>\n",
       "    <tr>\n",
       "      <th>2</th>\n",
       "      <td>2009-01-02</td>\n",
       "      <td>9.48</td>\n",
       "      <td>AMAZON.COM</td>\n",
       "      <td>WA</td>\n",
       "      <td>Book Stores</td>\n",
       "      <td>Department of Property Management</td>\n",
       "      <td>2009</td>\n",
       "    </tr>\n",
       "    <tr>\n",
       "      <th>3</th>\n",
       "      <td>2009-01-02</td>\n",
       "      <td>24.61</td>\n",
       "      <td>FEDEX KINKO'S #0671</td>\n",
       "      <td>DC</td>\n",
       "      <td>Quick-Copy, Reproduction and Blueprinting Serv...</td>\n",
       "      <td>Fire &amp; Emergency Medical Services</td>\n",
       "      <td>2009</td>\n",
       "    </tr>\n",
       "    <tr>\n",
       "      <th>4</th>\n",
       "      <td>2009-01-02</td>\n",
       "      <td>31.65</td>\n",
       "      <td>J&amp;R SOUND/MAILORDER</td>\n",
       "      <td>NY</td>\n",
       "      <td>Direct Marketing - Catalog Merchants</td>\n",
       "      <td>Office of the State Superintendent of Education</td>\n",
       "      <td>2009</td>\n",
       "    </tr>\n",
       "    <tr>\n",
       "      <th>...</th>\n",
       "      <td>...</td>\n",
       "      <td>...</td>\n",
       "      <td>...</td>\n",
       "      <td>...</td>\n",
       "      <td>...</td>\n",
       "      <td>...</td>\n",
       "      <td>...</td>\n",
       "    </tr>\n",
       "    <tr>\n",
       "      <th>193786</th>\n",
       "      <td>2014-12-31</td>\n",
       "      <td>2269.01</td>\n",
       "      <td>AMERICAN BUSINESS SUPP</td>\n",
       "      <td>DC</td>\n",
       "      <td>Office,Photographic,Photocopy,and Microfilm Equip</td>\n",
       "      <td>DC Public Library</td>\n",
       "      <td>2014</td>\n",
       "    </tr>\n",
       "    <tr>\n",
       "      <th>193787</th>\n",
       "      <td>2014-12-31</td>\n",
       "      <td>2519.78</td>\n",
       "      <td>STANDARD OFFICE SUPPLY</td>\n",
       "      <td>DC</td>\n",
       "      <td>Stationery, Office &amp; School Supply Stores</td>\n",
       "      <td>Fire &amp; Emergency Medical Services</td>\n",
       "      <td>2014</td>\n",
       "    </tr>\n",
       "    <tr>\n",
       "      <th>193788</th>\n",
       "      <td>2014-12-31</td>\n",
       "      <td>2894.15</td>\n",
       "      <td>AOP BUSINESS SERVICES</td>\n",
       "      <td>DC</td>\n",
       "      <td>Stationery,Office Supplies,Printing/Writing Paper</td>\n",
       "      <td>Department of Human Services</td>\n",
       "      <td>2014</td>\n",
       "    </tr>\n",
       "    <tr>\n",
       "      <th>193789</th>\n",
       "      <td>2014-12-31</td>\n",
       "      <td>4900.00</td>\n",
       "      <td>IN *CRWP EAGLESYSTEMS,</td>\n",
       "      <td>MD</td>\n",
       "      <td>Genl Contractors-Residential, and Commercial</td>\n",
       "      <td>DC Public Library</td>\n",
       "      <td>2014</td>\n",
       "    </tr>\n",
       "    <tr>\n",
       "      <th>193790</th>\n",
       "      <td>2014-12-31</td>\n",
       "      <td>4998.00</td>\n",
       "      <td>LASER ART INC</td>\n",
       "      <td>DC</td>\n",
       "      <td>Stationery, Office &amp; School Supply Stores</td>\n",
       "      <td>DC Lottery &amp; Charitable Games Control Board</td>\n",
       "      <td>2014</td>\n",
       "    </tr>\n",
       "  </tbody>\n",
       "</table>\n",
       "<p>193791 rows × 7 columns</p>\n",
       "</div>"
      ],
      "text/plain": [
       "             Date   Amount                Merchant State  \\\n",
       "0      2009-01-02  1700.00     WASHINGTON HISPANIC    MD   \n",
       "1      2009-01-02    23.16  STAPLES DIRECT00209908    CA   \n",
       "2      2009-01-02     9.48              AMAZON.COM    WA   \n",
       "3      2009-01-02    24.61     FEDEX KINKO'S #0671    DC   \n",
       "4      2009-01-02    31.65     J&R SOUND/MAILORDER    NY   \n",
       "...           ...      ...                     ...   ...   \n",
       "193786 2014-12-31  2269.01  AMERICAN BUSINESS SUPP    DC   \n",
       "193787 2014-12-31  2519.78  STANDARD OFFICE SUPPLY    DC   \n",
       "193788 2014-12-31  2894.15   AOP BUSINESS SERVICES    DC   \n",
       "193789 2014-12-31  4900.00  IN *CRWP EAGLESYSTEMS,    MD   \n",
       "193790 2014-12-31  4998.00           LASER ART INC    DC   \n",
       "\n",
       "                                              Description  \\\n",
       "0                                    Advertising Services   \n",
       "1       Stationery,Office Supplies,Printing/Writing Paper   \n",
       "2                                             Book Stores   \n",
       "3       Quick-Copy, Reproduction and Blueprinting Serv...   \n",
       "4                    Direct Marketing - Catalog Merchants   \n",
       "...                                                   ...   \n",
       "193786  Office,Photographic,Photocopy,and Microfilm Equip   \n",
       "193787          Stationery, Office & School Supply Stores   \n",
       "193788  Stationery,Office Supplies,Printing/Writing Paper   \n",
       "193789       Genl Contractors-Residential, and Commercial   \n",
       "193790          Stationery, Office & School Supply Stores   \n",
       "\n",
       "                                                 Agency  Year  \n",
       "0                          Department of Motor Vehicles  2009  \n",
       "1                        Metropolitan Police Department  2009  \n",
       "2                     Department of Property Management  2009  \n",
       "3                     Fire & Emergency Medical Services  2009  \n",
       "4       Office of the State Superintendent of Education  2009  \n",
       "...                                                 ...   ...  \n",
       "193786                                DC Public Library  2014  \n",
       "193787                Fire & Emergency Medical Services  2014  \n",
       "193788                     Department of Human Services  2014  \n",
       "193789                                DC Public Library  2014  \n",
       "193790      DC Lottery & Charitable Games Control Board  2014  \n",
       "\n",
       "[193791 rows x 7 columns]"
      ]
     },
     "execution_count": 1,
     "metadata": {},
     "output_type": "execute_result"
    }
   ],
   "source": [
    "import pandas as pd\n",
    "pc_df = pd.read_excel(\"PCard_Data2009-2014.xlsx\")\n",
    "pc_df['Amount'] = pc_df['Amount'].abs()\n",
    "pc_df['Description'] = pc_df['Description'].str.replace(', Not Elsewhere Classified','')\n",
    "pc_df['Description'] = pc_df['Description'].str.replace('Not Elsewhere Classified','')\n",
    "pc_df['Year'] = pc_df['Date'].dt.year\n",
    "pc_df"
   ]
  },
  {
   "cell_type": "code",
   "execution_count": 3,
   "metadata": {},
   "outputs": [
    {
     "data": {
      "text/html": [
       "<div>\n",
       "<style scoped>\n",
       "    .dataframe tbody tr th:only-of-type {\n",
       "        vertical-align: middle;\n",
       "    }\n",
       "\n",
       "    .dataframe tbody tr th {\n",
       "        vertical-align: top;\n",
       "    }\n",
       "\n",
       "    .dataframe thead th {\n",
       "        text-align: right;\n",
       "    }\n",
       "</style>\n",
       "<table border=\"1\" class=\"dataframe\">\n",
       "  <thead>\n",
       "    <tr style=\"text-align: right;\">\n",
       "      <th>Year</th>\n",
       "      <th>2009</th>\n",
       "      <th>2010</th>\n",
       "      <th>2011</th>\n",
       "      <th>2012</th>\n",
       "      <th>2013</th>\n",
       "      <th>2014</th>\n",
       "    </tr>\n",
       "    <tr>\n",
       "      <th>Merchant</th>\n",
       "      <th></th>\n",
       "      <th></th>\n",
       "      <th></th>\n",
       "      <th></th>\n",
       "      <th></th>\n",
       "      <th></th>\n",
       "    </tr>\n",
       "  </thead>\n",
       "  <tbody>\n",
       "    <tr>\n",
       "      <th>19275719</th>\n",
       "      <td>NaN</td>\n",
       "      <td>1.0</td>\n",
       "      <td>NaN</td>\n",
       "      <td>NaN</td>\n",
       "      <td>NaN</td>\n",
       "      <td>NaN</td>\n",
       "    </tr>\n",
       "    <tr>\n",
       "      <th># 0501 LA QUINTA INNS</th>\n",
       "      <td>11.0</td>\n",
       "      <td>NaN</td>\n",
       "      <td>NaN</td>\n",
       "      <td>NaN</td>\n",
       "      <td>NaN</td>\n",
       "      <td>NaN</td>\n",
       "    </tr>\n",
       "    <tr>\n",
       "      <th># 0583 LA QUINTA INNS</th>\n",
       "      <td>5.0</td>\n",
       "      <td>NaN</td>\n",
       "      <td>NaN</td>\n",
       "      <td>NaN</td>\n",
       "      <td>NaN</td>\n",
       "      <td>NaN</td>\n",
       "    </tr>\n",
       "    <tr>\n",
       "      <th># 0633 LA QUINTA INNS</th>\n",
       "      <td>NaN</td>\n",
       "      <td>1.0</td>\n",
       "      <td>NaN</td>\n",
       "      <td>NaN</td>\n",
       "      <td>NaN</td>\n",
       "      <td>NaN</td>\n",
       "    </tr>\n",
       "    <tr>\n",
       "      <th>#427 SHERATON METAIRIE</th>\n",
       "      <td>NaN</td>\n",
       "      <td>1.0</td>\n",
       "      <td>NaN</td>\n",
       "      <td>NaN</td>\n",
       "      <td>NaN</td>\n",
       "      <td>NaN</td>\n",
       "    </tr>\n",
       "    <tr>\n",
       "      <th>...</th>\n",
       "      <td>...</td>\n",
       "      <td>...</td>\n",
       "      <td>...</td>\n",
       "      <td>...</td>\n",
       "      <td>...</td>\n",
       "      <td>...</td>\n",
       "    </tr>\n",
       "    <tr>\n",
       "      <th>ZORO TOOLS INC</th>\n",
       "      <td>NaN</td>\n",
       "      <td>NaN</td>\n",
       "      <td>NaN</td>\n",
       "      <td>NaN</td>\n",
       "      <td>1.0</td>\n",
       "      <td>2.0</td>\n",
       "    </tr>\n",
       "    <tr>\n",
       "      <th>ZUMA OFFICE SUPPLY</th>\n",
       "      <td>NaN</td>\n",
       "      <td>NaN</td>\n",
       "      <td>2.0</td>\n",
       "      <td>NaN</td>\n",
       "      <td>NaN</td>\n",
       "      <td>2.0</td>\n",
       "    </tr>\n",
       "    <tr>\n",
       "      <th>ZUMMO INC</th>\n",
       "      <td>NaN</td>\n",
       "      <td>1.0</td>\n",
       "      <td>NaN</td>\n",
       "      <td>NaN</td>\n",
       "      <td>NaN</td>\n",
       "      <td>NaN</td>\n",
       "    </tr>\n",
       "    <tr>\n",
       "      <th>ZUMRO INC</th>\n",
       "      <td>1.0</td>\n",
       "      <td>2.0</td>\n",
       "      <td>NaN</td>\n",
       "      <td>NaN</td>\n",
       "      <td>2.0</td>\n",
       "      <td>NaN</td>\n",
       "    </tr>\n",
       "    <tr>\n",
       "      <th>ZZOUNDS.COM</th>\n",
       "      <td>1.0</td>\n",
       "      <td>NaN</td>\n",
       "      <td>NaN</td>\n",
       "      <td>1.0</td>\n",
       "      <td>NaN</td>\n",
       "      <td>2.0</td>\n",
       "    </tr>\n",
       "  </tbody>\n",
       "</table>\n",
       "<p>31568 rows × 6 columns</p>\n",
       "</div>"
      ],
      "text/plain": [
       "Year                    2009  2010  2011  2012  2013  2014\n",
       "Merchant                                                  \n",
       "19275719                 NaN   1.0   NaN   NaN   NaN   NaN\n",
       "# 0501 LA QUINTA INNS   11.0   NaN   NaN   NaN   NaN   NaN\n",
       "# 0583 LA QUINTA INNS    5.0   NaN   NaN   NaN   NaN   NaN\n",
       "# 0633 LA QUINTA INNS    NaN   1.0   NaN   NaN   NaN   NaN\n",
       "#427 SHERATON METAIRIE   NaN   1.0   NaN   NaN   NaN   NaN\n",
       "...                      ...   ...   ...   ...   ...   ...\n",
       "ZORO TOOLS INC           NaN   NaN   NaN   NaN   1.0   2.0\n",
       "ZUMA OFFICE SUPPLY       NaN   NaN   2.0   NaN   NaN   2.0\n",
       "ZUMMO INC                NaN   1.0   NaN   NaN   NaN   NaN\n",
       "ZUMRO INC                1.0   2.0   NaN   NaN   2.0   NaN\n",
       "ZZOUNDS.COM              1.0   NaN   NaN   1.0   NaN   2.0\n",
       "\n",
       "[31568 rows x 6 columns]"
      ]
     },
     "execution_count": 3,
     "metadata": {},
     "output_type": "execute_result"
    }
   ],
   "source": [
    "pc_df.pivot_table(index = \"Merchant\", columns = \"Year\", values = \"Amount\", aggfunc='count')"
   ]
  },
  {
   "cell_type": "code",
   "execution_count": 4,
   "metadata": {},
   "outputs": [
    {
     "data": {
      "text/html": [
       "<div>\n",
       "<style scoped>\n",
       "    .dataframe tbody tr th:only-of-type {\n",
       "        vertical-align: middle;\n",
       "    }\n",
       "\n",
       "    .dataframe tbody tr th {\n",
       "        vertical-align: top;\n",
       "    }\n",
       "\n",
       "    .dataframe thead th {\n",
       "        text-align: right;\n",
       "    }\n",
       "</style>\n",
       "<table border=\"1\" class=\"dataframe\">\n",
       "  <thead>\n",
       "    <tr style=\"text-align: right;\">\n",
       "      <th>Year</th>\n",
       "      <th>2009</th>\n",
       "      <th>2010</th>\n",
       "      <th>2011</th>\n",
       "      <th>2012</th>\n",
       "      <th>2013</th>\n",
       "      <th>2014</th>\n",
       "    </tr>\n",
       "    <tr>\n",
       "      <th>Merchant</th>\n",
       "      <th></th>\n",
       "      <th></th>\n",
       "      <th></th>\n",
       "      <th></th>\n",
       "      <th></th>\n",
       "      <th></th>\n",
       "    </tr>\n",
       "  </thead>\n",
       "  <tbody>\n",
       "    <tr>\n",
       "      <th>19275719</th>\n",
       "      <td>NaN</td>\n",
       "      <td>109.00</td>\n",
       "      <td>NaN</td>\n",
       "      <td>NaN</td>\n",
       "      <td>NaN</td>\n",
       "      <td>NaN</td>\n",
       "    </tr>\n",
       "    <tr>\n",
       "      <th># 0501 LA QUINTA INNS</th>\n",
       "      <td>5198.01</td>\n",
       "      <td>NaN</td>\n",
       "      <td>NaN</td>\n",
       "      <td>NaN</td>\n",
       "      <td>NaN</td>\n",
       "      <td>NaN</td>\n",
       "    </tr>\n",
       "    <tr>\n",
       "      <th># 0583 LA QUINTA INNS</th>\n",
       "      <td>722.16</td>\n",
       "      <td>NaN</td>\n",
       "      <td>NaN</td>\n",
       "      <td>NaN</td>\n",
       "      <td>NaN</td>\n",
       "      <td>NaN</td>\n",
       "    </tr>\n",
       "    <tr>\n",
       "      <th># 0633 LA QUINTA INNS</th>\n",
       "      <td>NaN</td>\n",
       "      <td>864.00</td>\n",
       "      <td>NaN</td>\n",
       "      <td>NaN</td>\n",
       "      <td>NaN</td>\n",
       "      <td>NaN</td>\n",
       "    </tr>\n",
       "    <tr>\n",
       "      <th>#427 SHERATON METAIRIE</th>\n",
       "      <td>NaN</td>\n",
       "      <td>292.03</td>\n",
       "      <td>NaN</td>\n",
       "      <td>NaN</td>\n",
       "      <td>NaN</td>\n",
       "      <td>NaN</td>\n",
       "    </tr>\n",
       "    <tr>\n",
       "      <th>...</th>\n",
       "      <td>...</td>\n",
       "      <td>...</td>\n",
       "      <td>...</td>\n",
       "      <td>...</td>\n",
       "      <td>...</td>\n",
       "      <td>...</td>\n",
       "    </tr>\n",
       "    <tr>\n",
       "      <th>ZORO TOOLS INC</th>\n",
       "      <td>NaN</td>\n",
       "      <td>NaN</td>\n",
       "      <td>NaN</td>\n",
       "      <td>NaN</td>\n",
       "      <td>54.9</td>\n",
       "      <td>270.79</td>\n",
       "    </tr>\n",
       "    <tr>\n",
       "      <th>ZUMA OFFICE SUPPLY</th>\n",
       "      <td>NaN</td>\n",
       "      <td>NaN</td>\n",
       "      <td>248.91</td>\n",
       "      <td>NaN</td>\n",
       "      <td>NaN</td>\n",
       "      <td>981.52</td>\n",
       "    </tr>\n",
       "    <tr>\n",
       "      <th>ZUMMO INC</th>\n",
       "      <td>NaN</td>\n",
       "      <td>157.00</td>\n",
       "      <td>NaN</td>\n",
       "      <td>NaN</td>\n",
       "      <td>NaN</td>\n",
       "      <td>NaN</td>\n",
       "    </tr>\n",
       "    <tr>\n",
       "      <th>ZUMRO INC</th>\n",
       "      <td>1563.60</td>\n",
       "      <td>2040.00</td>\n",
       "      <td>NaN</td>\n",
       "      <td>NaN</td>\n",
       "      <td>1080.0</td>\n",
       "      <td>NaN</td>\n",
       "    </tr>\n",
       "    <tr>\n",
       "      <th>ZZOUNDS.COM</th>\n",
       "      <td>2420.79</td>\n",
       "      <td>NaN</td>\n",
       "      <td>NaN</td>\n",
       "      <td>225.9</td>\n",
       "      <td>NaN</td>\n",
       "      <td>479.98</td>\n",
       "    </tr>\n",
       "  </tbody>\n",
       "</table>\n",
       "<p>31568 rows × 6 columns</p>\n",
       "</div>"
      ],
      "text/plain": [
       "Year                       2009     2010    2011   2012    2013    2014\n",
       "Merchant                                                               \n",
       "19275719                    NaN   109.00     NaN    NaN     NaN     NaN\n",
       "# 0501 LA QUINTA INNS   5198.01      NaN     NaN    NaN     NaN     NaN\n",
       "# 0583 LA QUINTA INNS    722.16      NaN     NaN    NaN     NaN     NaN\n",
       "# 0633 LA QUINTA INNS       NaN   864.00     NaN    NaN     NaN     NaN\n",
       "#427 SHERATON METAIRIE      NaN   292.03     NaN    NaN     NaN     NaN\n",
       "...                         ...      ...     ...    ...     ...     ...\n",
       "ZORO TOOLS INC              NaN      NaN     NaN    NaN    54.9  270.79\n",
       "ZUMA OFFICE SUPPLY          NaN      NaN  248.91    NaN     NaN  981.52\n",
       "ZUMMO INC                   NaN   157.00     NaN    NaN     NaN     NaN\n",
       "ZUMRO INC               1563.60  2040.00     NaN    NaN  1080.0     NaN\n",
       "ZZOUNDS.COM             2420.79      NaN     NaN  225.9     NaN  479.98\n",
       "\n",
       "[31568 rows x 6 columns]"
      ]
     },
     "execution_count": 4,
     "metadata": {},
     "output_type": "execute_result"
    }
   ],
   "source": [
    "pc_df.pivot_table(index = \"Merchant\", columns = \"Year\", values = \"Amount\", aggfunc='sum')"
   ]
  },
  {
   "cell_type": "code",
   "execution_count": 5,
   "metadata": {},
   "outputs": [
    {
     "data": {
      "text/plain": [
       "Year  Merchant              \n",
       "2009  19275719                      NaN\n",
       "      # 0501 LA QUINTA INNS     5198.01\n",
       "      # 0583 LA QUINTA INNS      722.16\n",
       "      # 0633 LA QUINTA INNS         NaN\n",
       "      #427 SHERATON METAIRIE        NaN\n",
       "                                 ...   \n",
       "2014  ZORO TOOLS INC             270.79\n",
       "      ZUMA OFFICE SUPPLY         981.52\n",
       "      ZUMMO INC                     NaN\n",
       "      ZUMRO INC                     NaN\n",
       "      ZZOUNDS.COM                479.98\n",
       "Length: 189408, dtype: float64"
      ]
     },
     "execution_count": 5,
     "metadata": {},
     "output_type": "execute_result"
    }
   ],
   "source": [
    "stacked = pc_df.pivot_table(index = \"Merchant\", columns = \"Year\", values = \"Amount\", aggfunc='sum')\n",
    "unstacked = stacked.unstack()\n",
    "unstacked"
   ]
  },
  {
   "cell_type": "code",
   "execution_count": 6,
   "metadata": {},
   "outputs": [
    {
     "data": {
      "text/plain": [
       "pandas.core.series.Series"
      ]
     },
     "execution_count": 6,
     "metadata": {},
     "output_type": "execute_result"
    }
   ],
   "source": [
    "type(unstacked)"
   ]
  },
  {
   "cell_type": "code",
   "execution_count": 8,
   "metadata": {},
   "outputs": [],
   "source": [
    "pc_df['Merchant'].value_counts().to_clipboard()"
   ]
  },
  {
   "cell_type": "code",
   "execution_count": 9,
   "metadata": {},
   "outputs": [
    {
     "data": {
      "text/plain": [
       "[8000, 200, 200, 150]"
      ]
     },
     "execution_count": 9,
     "metadata": {},
     "output_type": "execute_result"
    }
   ],
   "source": [
    "numbers = [8000,200,200,150]\n",
    "numbers"
   ]
  },
  {
   "cell_type": "code",
   "execution_count": 11,
   "metadata": {},
   "outputs": [
    {
     "data": {
      "text/plain": [
       "8000"
      ]
     },
     "execution_count": 11,
     "metadata": {},
     "output_type": "execute_result"
    }
   ],
   "source": [
    "max(numbers)"
   ]
  },
  {
   "cell_type": "code",
   "execution_count": 12,
   "metadata": {},
   "outputs": [],
   "source": [
    "numbers.sort()"
   ]
  },
  {
   "cell_type": "code",
   "execution_count": 13,
   "metadata": {},
   "outputs": [
    {
     "data": {
      "text/plain": [
       "[150, 200, 200, 8000]"
      ]
     },
     "execution_count": 13,
     "metadata": {},
     "output_type": "execute_result"
    }
   ],
   "source": [
    "numbers"
   ]
  },
  {
   "cell_type": "code",
   "execution_count": 14,
   "metadata": {},
   "outputs": [
    {
     "data": {
      "text/plain": [
       "8000"
      ]
     },
     "execution_count": 14,
     "metadata": {},
     "output_type": "execute_result"
    }
   ],
   "source": [
    "numbers[-1]"
   ]
  },
  {
   "cell_type": "code",
   "execution_count": 16,
   "metadata": {},
   "outputs": [
    {
     "data": {
      "text/plain": [
       "200"
      ]
     },
     "execution_count": 16,
     "metadata": {},
     "output_type": "execute_result"
    }
   ],
   "source": [
    "numbers[1]"
   ]
  },
  {
   "cell_type": "code",
   "execution_count": 17,
   "metadata": {},
   "outputs": [
    {
     "name": "stdout",
     "output_type": "stream",
     "text": [
      "40.0\n"
     ]
    }
   ],
   "source": [
    "numbers = [8000,200,200,150]\n",
    "numbers.sort()\n",
    "Largest = numbers[-1]\n",
    "Semi_Largest = numbers[-2]\n",
    "RSF = Largest/Semi_Largest\n",
    "print(RSF)"
   ]
  },
  {
   "cell_type": "code",
   "execution_count": 21,
   "metadata": {},
   "outputs": [
    {
     "data": {
      "text/html": [
       "<div>\n",
       "<style scoped>\n",
       "    .dataframe tbody tr th:only-of-type {\n",
       "        vertical-align: middle;\n",
       "    }\n",
       "\n",
       "    .dataframe tbody tr th {\n",
       "        vertical-align: top;\n",
       "    }\n",
       "\n",
       "    .dataframe thead th {\n",
       "        text-align: right;\n",
       "    }\n",
       "</style>\n",
       "<table border=\"1\" class=\"dataframe\">\n",
       "  <thead>\n",
       "    <tr style=\"text-align: right;\">\n",
       "      <th></th>\n",
       "      <th>Date</th>\n",
       "      <th>Amount</th>\n",
       "      <th>Merchant</th>\n",
       "      <th>State</th>\n",
       "      <th>Description</th>\n",
       "      <th>Agency</th>\n",
       "      <th>Year</th>\n",
       "    </tr>\n",
       "  </thead>\n",
       "  <tbody>\n",
       "    <tr>\n",
       "      <th>0</th>\n",
       "      <td>2009-01-02</td>\n",
       "      <td>1700.0</td>\n",
       "      <td>WASHINGTON HISPANIC</td>\n",
       "      <td>MD</td>\n",
       "      <td>Advertising Services</td>\n",
       "      <td>Department of Motor Vehicles</td>\n",
       "      <td>2009</td>\n",
       "    </tr>\n",
       "    <tr>\n",
       "      <th>27407</th>\n",
       "      <td>2009-12-16</td>\n",
       "      <td>2700.0</td>\n",
       "      <td>WASHINGTON HISPANIC</td>\n",
       "      <td>MD</td>\n",
       "      <td>Advertising Services</td>\n",
       "      <td>Office of Human Rights</td>\n",
       "      <td>2009</td>\n",
       "    </tr>\n",
       "    <tr>\n",
       "      <th>40860</th>\n",
       "      <td>2010-05-28</td>\n",
       "      <td>350.0</td>\n",
       "      <td>WASHINGTON HISPANIC</td>\n",
       "      <td>MD</td>\n",
       "      <td>Advertising Services</td>\n",
       "      <td>Office of the Tenant Advocate</td>\n",
       "      <td>2010</td>\n",
       "    </tr>\n",
       "    <tr>\n",
       "      <th>64337</th>\n",
       "      <td>2011-02-08</td>\n",
       "      <td>750.0</td>\n",
       "      <td>WASHINGTON HISPANIC</td>\n",
       "      <td>MD</td>\n",
       "      <td>News Dealers &amp; Newsstands</td>\n",
       "      <td>Commission on Arts &amp; Humanities</td>\n",
       "      <td>2011</td>\n",
       "    </tr>\n",
       "    <tr>\n",
       "      <th>71560</th>\n",
       "      <td>2011-04-26</td>\n",
       "      <td>700.0</td>\n",
       "      <td>WASHINGTON HISPANIC</td>\n",
       "      <td>MD</td>\n",
       "      <td>News Dealers &amp; Newsstands</td>\n",
       "      <td>Commission on Arts &amp; Humanities</td>\n",
       "      <td>2011</td>\n",
       "    </tr>\n",
       "    <tr>\n",
       "      <th>81239</th>\n",
       "      <td>2011-08-11</td>\n",
       "      <td>300.0</td>\n",
       "      <td>WASHINGTON HISPANIC</td>\n",
       "      <td>MD</td>\n",
       "      <td>News Dealers &amp; Newsstands</td>\n",
       "      <td>DC Public Library</td>\n",
       "      <td>2011</td>\n",
       "    </tr>\n",
       "    <tr>\n",
       "      <th>98559</th>\n",
       "      <td>2012-02-08</td>\n",
       "      <td>700.0</td>\n",
       "      <td>WASHINGTON HISPANIC</td>\n",
       "      <td>MD</td>\n",
       "      <td>News Dealers &amp; Newsstands</td>\n",
       "      <td>Office of the Secretary</td>\n",
       "      <td>2012</td>\n",
       "    </tr>\n",
       "    <tr>\n",
       "      <th>127387</th>\n",
       "      <td>2012-12-19</td>\n",
       "      <td>250.0</td>\n",
       "      <td>WASHINGTON HISPANIC</td>\n",
       "      <td>MD</td>\n",
       "      <td>News Dealers &amp; Newsstands</td>\n",
       "      <td>Department on Disability Services</td>\n",
       "      <td>2012</td>\n",
       "    </tr>\n",
       "    <tr>\n",
       "      <th>143759</th>\n",
       "      <td>2013-06-25</td>\n",
       "      <td>800.0</td>\n",
       "      <td>WASHINGTON HISPANIC</td>\n",
       "      <td>MD</td>\n",
       "      <td>News Dealers &amp; Newsstands</td>\n",
       "      <td>District Department of Transportation</td>\n",
       "      <td>2013</td>\n",
       "    </tr>\n",
       "    <tr>\n",
       "      <th>153093</th>\n",
       "      <td>2013-09-30</td>\n",
       "      <td>120.0</td>\n",
       "      <td>WASHINGTON HISPANIC</td>\n",
       "      <td>MD</td>\n",
       "      <td>News Dealers &amp; Newsstands</td>\n",
       "      <td>OFFICE OF PEOPLE'S COUNSEL</td>\n",
       "      <td>2013</td>\n",
       "    </tr>\n",
       "    <tr>\n",
       "      <th>167515</th>\n",
       "      <td>2014-04-08</td>\n",
       "      <td>700.0</td>\n",
       "      <td>WASHINGTON HISPANIC</td>\n",
       "      <td>MD</td>\n",
       "      <td>News Dealers &amp; Newsstands</td>\n",
       "      <td>DC Public Library</td>\n",
       "      <td>2014</td>\n",
       "    </tr>\n",
       "    <tr>\n",
       "      <th>173511</th>\n",
       "      <td>2014-06-10</td>\n",
       "      <td>277.0</td>\n",
       "      <td>WASHINGTON HISPANIC</td>\n",
       "      <td>MD</td>\n",
       "      <td>News Dealers &amp; Newsstands</td>\n",
       "      <td>DC Public Library</td>\n",
       "      <td>2014</td>\n",
       "    </tr>\n",
       "    <tr>\n",
       "      <th>177215</th>\n",
       "      <td>2014-07-17</td>\n",
       "      <td>1800.0</td>\n",
       "      <td>WASHINGTON HISPANIC</td>\n",
       "      <td>MD</td>\n",
       "      <td>News Dealers &amp; Newsstands</td>\n",
       "      <td>Department of Parks &amp; Recreation</td>\n",
       "      <td>2014</td>\n",
       "    </tr>\n",
       "    <tr>\n",
       "      <th>184550</th>\n",
       "      <td>2014-09-18</td>\n",
       "      <td>336.0</td>\n",
       "      <td>WASHINGTON HISPANIC</td>\n",
       "      <td>MD</td>\n",
       "      <td>News Dealers &amp; Newsstands</td>\n",
       "      <td>DC Public Library</td>\n",
       "      <td>2014</td>\n",
       "    </tr>\n",
       "  </tbody>\n",
       "</table>\n",
       "</div>"
      ],
      "text/plain": [
       "             Date  Amount             Merchant State  \\\n",
       "0      2009-01-02  1700.0  WASHINGTON HISPANIC    MD   \n",
       "27407  2009-12-16  2700.0  WASHINGTON HISPANIC    MD   \n",
       "40860  2010-05-28   350.0  WASHINGTON HISPANIC    MD   \n",
       "64337  2011-02-08   750.0  WASHINGTON HISPANIC    MD   \n",
       "71560  2011-04-26   700.0  WASHINGTON HISPANIC    MD   \n",
       "81239  2011-08-11   300.0  WASHINGTON HISPANIC    MD   \n",
       "98559  2012-02-08   700.0  WASHINGTON HISPANIC    MD   \n",
       "127387 2012-12-19   250.0  WASHINGTON HISPANIC    MD   \n",
       "143759 2013-06-25   800.0  WASHINGTON HISPANIC    MD   \n",
       "153093 2013-09-30   120.0  WASHINGTON HISPANIC    MD   \n",
       "167515 2014-04-08   700.0  WASHINGTON HISPANIC    MD   \n",
       "173511 2014-06-10   277.0  WASHINGTON HISPANIC    MD   \n",
       "177215 2014-07-17  1800.0  WASHINGTON HISPANIC    MD   \n",
       "184550 2014-09-18   336.0  WASHINGTON HISPANIC    MD   \n",
       "\n",
       "                      Description                                 Agency  Year  \n",
       "0            Advertising Services           Department of Motor Vehicles  2009  \n",
       "27407        Advertising Services                 Office of Human Rights  2009  \n",
       "40860        Advertising Services          Office of the Tenant Advocate  2010  \n",
       "64337   News Dealers & Newsstands        Commission on Arts & Humanities  2011  \n",
       "71560   News Dealers & Newsstands        Commission on Arts & Humanities  2011  \n",
       "81239   News Dealers & Newsstands                      DC Public Library  2011  \n",
       "98559   News Dealers & Newsstands                Office of the Secretary  2012  \n",
       "127387  News Dealers & Newsstands      Department on Disability Services  2012  \n",
       "143759  News Dealers & Newsstands  District Department of Transportation  2013  \n",
       "153093  News Dealers & Newsstands             OFFICE OF PEOPLE'S COUNSEL  2013  \n",
       "167515  News Dealers & Newsstands                      DC Public Library  2014  \n",
       "173511  News Dealers & Newsstands                      DC Public Library  2014  \n",
       "177215  News Dealers & Newsstands       Department of Parks & Recreation  2014  \n",
       "184550  News Dealers & Newsstands                      DC Public Library  2014  "
      ]
     },
     "execution_count": 21,
     "metadata": {},
     "output_type": "execute_result"
    }
   ],
   "source": [
    "pc_df.loc[pc_df['Merchant'] == 'WASHINGTON HISPANIC']"
   ]
  },
  {
   "cell_type": "code",
   "execution_count": 46,
   "metadata": {},
   "outputs": [
    {
     "data": {
      "text/plain": [
       "1.1429291958881738"
      ]
     },
     "execution_count": 46,
     "metadata": {},
     "output_type": "execute_result"
    }
   ],
   "source": [
    "single_RSF_df = pc_df.loc[pc_df['Merchant'] == 'STAPLES DIRECT00209908']\n",
    "\n",
    "single_RSF_df_amount = single_RSF_df['Amount']\n",
    "RSF = single_RSF_df_amount.nlargest(2).values[0]/single_RSF_df_amount.nlargest(2).values[1]\n",
    "RSF"
   ]
  },
  {
   "cell_type": "code",
   "execution_count": 42,
   "metadata": {},
   "outputs": [],
   "source": [
    "def calculate_RSF(Merchant,Amount):\n",
    "    single_RSF_df = pc_df.loc[pc_df[Merchant] == Merchant]\n",
    "    single_RSF_df_amount = single_RSF_df[Amount]\n",
    "    RSF = single_RSF_df_amount.nlargest(2).values[0]/single_RSF_df_amount.nlargest(2).values[1]\n",
    "    return RSF\n"
   ]
  },
  {
   "cell_type": "code",
   "execution_count": 55,
   "metadata": {},
   "outputs": [
    {
     "data": {
      "text/plain": [
       "<pandas.core.groupby.generic.SeriesGroupBy object at 0x0000019A4A40E470>"
      ]
     },
     "execution_count": 55,
     "metadata": {},
     "output_type": "execute_result"
    }
   ],
   "source": [
    "groups"
   ]
  },
  {
   "cell_type": "code",
   "execution_count": 57,
   "metadata": {},
   "outputs": [
    {
     "data": {
      "text/plain": [
       "128672    143500.00\n",
       "112370    100411.00\n",
       "112069     99999.99\n",
       "112369     99999.99\n",
       "124883     99999.99\n",
       "Name: Amount, dtype: float64"
      ]
     },
     "execution_count": 57,
     "metadata": {},
     "output_type": "execute_result"
    }
   ],
   "source": [
    "pc_df[\"Amount\"].nlargest()"
   ]
  },
  {
   "cell_type": "code",
   "execution_count": 58,
   "metadata": {},
   "outputs": [
    {
     "ename": "KeyboardInterrupt",
     "evalue": "",
     "output_type": "error",
     "traceback": [
      "\u001b[1;31m---------------------------------------------------------------------------\u001b[0m",
      "\u001b[1;31mKeyboardInterrupt\u001b[0m                         Traceback (most recent call last)",
      "Cell \u001b[1;32mIn [58], line 1\u001b[0m\n\u001b[1;32m----> 1\u001b[0m groups\u001b[38;5;241m=\u001b[39m\u001b[43mpc_df\u001b[49m\u001b[38;5;241;43m.\u001b[39;49m\u001b[43mgroupby\u001b[49m\u001b[43m(\u001b[49m\u001b[38;5;124;43m\"\u001b[39;49m\u001b[38;5;124;43mMerchant\u001b[39;49m\u001b[38;5;124;43m\"\u001b[39;49m\u001b[43m)\u001b[49m\u001b[43m[\u001b[49m\u001b[38;5;124;43m\"\u001b[39;49m\u001b[38;5;124;43mAmount\u001b[39;49m\u001b[38;5;124;43m\"\u001b[39;49m\u001b[43m]\u001b[49m\u001b[38;5;241;43m.\u001b[39;49m\u001b[43mnlargest\u001b[49m\u001b[43m(\u001b[49m\u001b[38;5;241;43m2\u001b[39;49m\u001b[43m)\u001b[49m\n",
      "File \u001b[1;32mc:\\Users\\pon00\\AppData\\Local\\Programs\\Python\\Python310\\lib\\site-packages\\pandas\\core\\groupby\\generic.py:750\u001b[0m, in \u001b[0;36mSeriesGroupBy.nlargest\u001b[1;34m(self, n, keep)\u001b[0m\n\u001b[0;32m    747\u001b[0m data \u001b[39m=\u001b[39m \u001b[39mself\u001b[39m\u001b[39m.\u001b[39m_obj_with_exclusions\n\u001b[0;32m    748\u001b[0m \u001b[39m# Don't change behavior if result index happens to be the same, i.e.\u001b[39;00m\n\u001b[0;32m    749\u001b[0m \u001b[39m# already ordered and n >= all group sizes.\u001b[39;00m\n\u001b[1;32m--> 750\u001b[0m result \u001b[39m=\u001b[39m \u001b[39mself\u001b[39;49m\u001b[39m.\u001b[39;49m_python_apply_general(f, data, not_indexed_same\u001b[39m=\u001b[39;49m\u001b[39mTrue\u001b[39;49;00m)\n\u001b[0;32m    751\u001b[0m \u001b[39mreturn\u001b[39;00m result\n",
      "File \u001b[1;32mc:\\Users\\pon00\\AppData\\Local\\Programs\\Python\\Python310\\lib\\site-packages\\pandas\\core\\groupby\\groupby.py:1469\u001b[0m, in \u001b[0;36mGroupBy._python_apply_general\u001b[1;34m(self, f, data, not_indexed_same)\u001b[0m\n\u001b[0;32m   1466\u001b[0m \u001b[39mif\u001b[39;00m not_indexed_same \u001b[39mis\u001b[39;00m \u001b[39mNone\u001b[39;00m:\n\u001b[0;32m   1467\u001b[0m     not_indexed_same \u001b[39m=\u001b[39m mutated \u001b[39mor\u001b[39;00m \u001b[39mself\u001b[39m\u001b[39m.\u001b[39mmutated\n\u001b[1;32m-> 1469\u001b[0m \u001b[39mreturn\u001b[39;00m \u001b[39mself\u001b[39;49m\u001b[39m.\u001b[39;49m_wrap_applied_output(\n\u001b[0;32m   1470\u001b[0m     data, values, not_indexed_same\u001b[39m=\u001b[39;49mnot_indexed_same\n\u001b[0;32m   1471\u001b[0m )\n",
      "File \u001b[1;32mc:\\Users\\pon00\\AppData\\Local\\Programs\\Python\\Python310\\lib\\site-packages\\pandas\\core\\groupby\\generic.py:398\u001b[0m, in \u001b[0;36mSeriesGroupBy._wrap_applied_output\u001b[1;34m(self, data, values, not_indexed_same)\u001b[0m\n\u001b[0;32m    396\u001b[0m     \u001b[39mreturn\u001b[39;00m res_ser\n\u001b[0;32m    397\u001b[0m \u001b[39melif\u001b[39;00m \u001b[39misinstance\u001b[39m(values[\u001b[39m0\u001b[39m], (Series, DataFrame)):\n\u001b[1;32m--> 398\u001b[0m     \u001b[39mreturn\u001b[39;00m \u001b[39mself\u001b[39;49m\u001b[39m.\u001b[39;49m_concat_objects(values, not_indexed_same\u001b[39m=\u001b[39;49mnot_indexed_same)\n\u001b[0;32m    399\u001b[0m \u001b[39melse\u001b[39;00m:\n\u001b[0;32m    400\u001b[0m     \u001b[39m# GH #6265 #24880\u001b[39;00m\n\u001b[0;32m    401\u001b[0m     result \u001b[39m=\u001b[39m \u001b[39mself\u001b[39m\u001b[39m.\u001b[39mobj\u001b[39m.\u001b[39m_constructor(\n\u001b[0;32m    402\u001b[0m         data\u001b[39m=\u001b[39mvalues, index\u001b[39m=\u001b[39m\u001b[39mself\u001b[39m\u001b[39m.\u001b[39mgrouper\u001b[39m.\u001b[39mresult_index, name\u001b[39m=\u001b[39m\u001b[39mself\u001b[39m\u001b[39m.\u001b[39mobj\u001b[39m.\u001b[39mname\n\u001b[0;32m    403\u001b[0m     )\n",
      "File \u001b[1;32mc:\\Users\\pon00\\AppData\\Local\\Programs\\Python\\Python310\\lib\\site-packages\\pandas\\core\\groupby\\groupby.py:1058\u001b[0m, in \u001b[0;36mGroupBy._concat_objects\u001b[1;34m(self, values, not_indexed_same)\u001b[0m\n\u001b[0;32m   1055\u001b[0m     group_levels \u001b[39m=\u001b[39m \u001b[39mself\u001b[39m\u001b[39m.\u001b[39mgrouper\u001b[39m.\u001b[39mlevels\n\u001b[0;32m   1056\u001b[0m     group_names \u001b[39m=\u001b[39m \u001b[39mself\u001b[39m\u001b[39m.\u001b[39mgrouper\u001b[39m.\u001b[39mnames\n\u001b[1;32m-> 1058\u001b[0m     result \u001b[39m=\u001b[39m concat(\n\u001b[0;32m   1059\u001b[0m         values,\n\u001b[0;32m   1060\u001b[0m         axis\u001b[39m=\u001b[39;49m\u001b[39mself\u001b[39;49m\u001b[39m.\u001b[39;49maxis,\n\u001b[0;32m   1061\u001b[0m         keys\u001b[39m=\u001b[39;49mgroup_keys,\n\u001b[0;32m   1062\u001b[0m         levels\u001b[39m=\u001b[39;49mgroup_levels,\n\u001b[0;32m   1063\u001b[0m         names\u001b[39m=\u001b[39;49mgroup_names,\n\u001b[0;32m   1064\u001b[0m         sort\u001b[39m=\u001b[39;49m\u001b[39mFalse\u001b[39;49;00m,\n\u001b[0;32m   1065\u001b[0m     )\n\u001b[0;32m   1066\u001b[0m \u001b[39melse\u001b[39;00m:\n\u001b[0;32m   1067\u001b[0m \n\u001b[0;32m   1068\u001b[0m     \u001b[39m# GH5610, returns a MI, with the first level being a\u001b[39;00m\n\u001b[0;32m   1069\u001b[0m     \u001b[39m# range index\u001b[39;00m\n\u001b[0;32m   1070\u001b[0m     keys \u001b[39m=\u001b[39m \u001b[39mlist\u001b[39m(\u001b[39mrange\u001b[39m(\u001b[39mlen\u001b[39m(values)))\n",
      "File \u001b[1;32mc:\\Users\\pon00\\AppData\\Local\\Programs\\Python\\Python310\\lib\\site-packages\\pandas\\util\\_decorators.py:311\u001b[0m, in \u001b[0;36mdeprecate_nonkeyword_arguments.<locals>.decorate.<locals>.wrapper\u001b[1;34m(*args, **kwargs)\u001b[0m\n\u001b[0;32m    305\u001b[0m \u001b[39mif\u001b[39;00m \u001b[39mlen\u001b[39m(args) \u001b[39m>\u001b[39m num_allow_args:\n\u001b[0;32m    306\u001b[0m     warnings\u001b[39m.\u001b[39mwarn(\n\u001b[0;32m    307\u001b[0m         msg\u001b[39m.\u001b[39mformat(arguments\u001b[39m=\u001b[39marguments),\n\u001b[0;32m    308\u001b[0m         \u001b[39mFutureWarning\u001b[39;00m,\n\u001b[0;32m    309\u001b[0m         stacklevel\u001b[39m=\u001b[39mstacklevel,\n\u001b[0;32m    310\u001b[0m     )\n\u001b[1;32m--> 311\u001b[0m \u001b[39mreturn\u001b[39;00m func(\u001b[39m*\u001b[39margs, \u001b[39m*\u001b[39m\u001b[39m*\u001b[39mkwargs)\n",
      "File \u001b[1;32mc:\\Users\\pon00\\AppData\\Local\\Programs\\Python\\Python310\\lib\\site-packages\\pandas\\core\\reshape\\concat.py:347\u001b[0m, in \u001b[0;36mconcat\u001b[1;34m(objs, axis, join, ignore_index, keys, levels, names, verify_integrity, sort, copy)\u001b[0m\n\u001b[0;32m    143\u001b[0m \u001b[39m@deprecate_nonkeyword_arguments\u001b[39m(version\u001b[39m=\u001b[39m\u001b[39mNone\u001b[39;00m, allowed_args\u001b[39m=\u001b[39m[\u001b[39m\"\u001b[39m\u001b[39mobjs\u001b[39m\u001b[39m\"\u001b[39m])\n\u001b[0;32m    144\u001b[0m \u001b[39mdef\u001b[39;00m \u001b[39mconcat\u001b[39m(\n\u001b[0;32m    145\u001b[0m     objs: Iterable[NDFrame] \u001b[39m|\u001b[39m Mapping[Hashable, NDFrame],\n\u001b[1;32m   (...)\u001b[0m\n\u001b[0;32m    154\u001b[0m     copy: \u001b[39mbool\u001b[39m \u001b[39m=\u001b[39m \u001b[39mTrue\u001b[39;00m,\n\u001b[0;32m    155\u001b[0m ) \u001b[39m-\u001b[39m\u001b[39m>\u001b[39m DataFrame \u001b[39m|\u001b[39m Series:\n\u001b[0;32m    156\u001b[0m     \u001b[39m\"\"\"\u001b[39;00m\n\u001b[0;32m    157\u001b[0m \u001b[39m    Concatenate pandas objects along a particular axis with optional set logic\u001b[39;00m\n\u001b[0;32m    158\u001b[0m \u001b[39m    along the other axes.\u001b[39;00m\n\u001b[1;32m   (...)\u001b[0m\n\u001b[0;32m    345\u001b[0m \u001b[39m    ValueError: Indexes have overlapping values: ['a']\u001b[39;00m\n\u001b[0;32m    346\u001b[0m \u001b[39m    \"\"\"\u001b[39;00m\n\u001b[1;32m--> 347\u001b[0m     op \u001b[39m=\u001b[39m _Concatenator(\n\u001b[0;32m    348\u001b[0m         objs,\n\u001b[0;32m    349\u001b[0m         axis\u001b[39m=\u001b[39;49maxis,\n\u001b[0;32m    350\u001b[0m         ignore_index\u001b[39m=\u001b[39;49mignore_index,\n\u001b[0;32m    351\u001b[0m         join\u001b[39m=\u001b[39;49mjoin,\n\u001b[0;32m    352\u001b[0m         keys\u001b[39m=\u001b[39;49mkeys,\n\u001b[0;32m    353\u001b[0m         levels\u001b[39m=\u001b[39;49mlevels,\n\u001b[0;32m    354\u001b[0m         names\u001b[39m=\u001b[39;49mnames,\n\u001b[0;32m    355\u001b[0m         verify_integrity\u001b[39m=\u001b[39;49mverify_integrity,\n\u001b[0;32m    356\u001b[0m         copy\u001b[39m=\u001b[39;49mcopy,\n\u001b[0;32m    357\u001b[0m         sort\u001b[39m=\u001b[39;49msort,\n\u001b[0;32m    358\u001b[0m     )\n\u001b[0;32m    360\u001b[0m     \u001b[39mreturn\u001b[39;00m op\u001b[39m.\u001b[39mget_result()\n",
      "File \u001b[1;32mc:\\Users\\pon00\\AppData\\Local\\Programs\\Python\\Python310\\lib\\site-packages\\pandas\\core\\reshape\\concat.py:542\u001b[0m, in \u001b[0;36m_Concatenator.__init__\u001b[1;34m(self, objs, axis, join, keys, levels, names, ignore_index, verify_integrity, copy, sort)\u001b[0m\n\u001b[0;32m    539\u001b[0m \u001b[39mself\u001b[39m\u001b[39m.\u001b[39mverify_integrity \u001b[39m=\u001b[39m verify_integrity\n\u001b[0;32m    540\u001b[0m \u001b[39mself\u001b[39m\u001b[39m.\u001b[39mcopy \u001b[39m=\u001b[39m copy\n\u001b[1;32m--> 542\u001b[0m \u001b[39mself\u001b[39m\u001b[39m.\u001b[39mnew_axes \u001b[39m=\u001b[39m \u001b[39mself\u001b[39;49m\u001b[39m.\u001b[39;49m_get_new_axes()\n",
      "File \u001b[1;32mc:\\Users\\pon00\\AppData\\Local\\Programs\\Python\\Python310\\lib\\site-packages\\pandas\\core\\reshape\\concat.py:612\u001b[0m, in \u001b[0;36m_Concatenator._get_new_axes\u001b[1;34m(self)\u001b[0m\n\u001b[0;32m    610\u001b[0m \u001b[39mdef\u001b[39;00m \u001b[39m_get_new_axes\u001b[39m(\u001b[39mself\u001b[39m) \u001b[39m-\u001b[39m\u001b[39m>\u001b[39m \u001b[39mlist\u001b[39m[Index]:\n\u001b[0;32m    611\u001b[0m     ndim \u001b[39m=\u001b[39m \u001b[39mself\u001b[39m\u001b[39m.\u001b[39m_get_result_dim()\n\u001b[1;32m--> 612\u001b[0m     \u001b[39mreturn\u001b[39;00m [\n\u001b[0;32m    613\u001b[0m         \u001b[39mself\u001b[39m\u001b[39m.\u001b[39m_get_concat_axis \u001b[39mif\u001b[39;00m i \u001b[39m==\u001b[39m \u001b[39mself\u001b[39m\u001b[39m.\u001b[39mbm_axis \u001b[39melse\u001b[39;00m \u001b[39mself\u001b[39m\u001b[39m.\u001b[39m_get_comb_axis(i)\n\u001b[0;32m    614\u001b[0m         \u001b[39mfor\u001b[39;00m i \u001b[39min\u001b[39;00m \u001b[39mrange\u001b[39m(ndim)\n\u001b[0;32m    615\u001b[0m     ]\n",
      "File \u001b[1;32mc:\\Users\\pon00\\AppData\\Local\\Programs\\Python\\Python310\\lib\\site-packages\\pandas\\core\\reshape\\concat.py:613\u001b[0m, in \u001b[0;36m<listcomp>\u001b[1;34m(.0)\u001b[0m\n\u001b[0;32m    610\u001b[0m \u001b[39mdef\u001b[39;00m \u001b[39m_get_new_axes\u001b[39m(\u001b[39mself\u001b[39m) \u001b[39m-\u001b[39m\u001b[39m>\u001b[39m \u001b[39mlist\u001b[39m[Index]:\n\u001b[0;32m    611\u001b[0m     ndim \u001b[39m=\u001b[39m \u001b[39mself\u001b[39m\u001b[39m.\u001b[39m_get_result_dim()\n\u001b[0;32m    612\u001b[0m     \u001b[39mreturn\u001b[39;00m [\n\u001b[1;32m--> 613\u001b[0m         \u001b[39mself\u001b[39;49m\u001b[39m.\u001b[39;49m_get_concat_axis \u001b[39mif\u001b[39;00m i \u001b[39m==\u001b[39m \u001b[39mself\u001b[39m\u001b[39m.\u001b[39mbm_axis \u001b[39melse\u001b[39;00m \u001b[39mself\u001b[39m\u001b[39m.\u001b[39m_get_comb_axis(i)\n\u001b[0;32m    614\u001b[0m         \u001b[39mfor\u001b[39;00m i \u001b[39min\u001b[39;00m \u001b[39mrange\u001b[39m(ndim)\n\u001b[0;32m    615\u001b[0m     ]\n",
      "File \u001b[1;32mc:\\Users\\pon00\\AppData\\Local\\Programs\\Python\\Python310\\lib\\site-packages\\pandas\\_libs\\properties.pyx:37\u001b[0m, in \u001b[0;36mpandas._libs.properties.CachedProperty.__get__\u001b[1;34m()\u001b[0m\n",
      "File \u001b[1;32mc:\\Users\\pon00\\AppData\\Local\\Programs\\Python\\Python310\\lib\\site-packages\\pandas\\core\\reshape\\concat.py:670\u001b[0m, in \u001b[0;36m_Concatenator._get_concat_axis\u001b[1;34m(self)\u001b[0m\n\u001b[0;32m    668\u001b[0m     concat_axis \u001b[39m=\u001b[39m _concat_indexes(indexes)\n\u001b[0;32m    669\u001b[0m \u001b[39melse\u001b[39;00m:\n\u001b[1;32m--> 670\u001b[0m     concat_axis \u001b[39m=\u001b[39m _make_concat_multiindex(\n\u001b[0;32m    671\u001b[0m         indexes, \u001b[39mself\u001b[39;49m\u001b[39m.\u001b[39;49mkeys, \u001b[39mself\u001b[39;49m\u001b[39m.\u001b[39;49mlevels, \u001b[39mself\u001b[39;49m\u001b[39m.\u001b[39;49mnames\n\u001b[0;32m    672\u001b[0m     )\n\u001b[0;32m    674\u001b[0m \u001b[39mself\u001b[39m\u001b[39m.\u001b[39m_maybe_check_integrity(concat_axis)\n\u001b[0;32m    676\u001b[0m \u001b[39mreturn\u001b[39;00m concat_axis\n",
      "File \u001b[1;32mc:\\Users\\pon00\\AppData\\Local\\Programs\\Python\\Python310\\lib\\site-packages\\pandas\\core\\reshape\\concat.py:722\u001b[0m, in \u001b[0;36m_make_concat_multiindex\u001b[1;34m(indexes, keys, levels, names)\u001b[0m\n\u001b[0;32m    719\u001b[0m to_concat \u001b[39m=\u001b[39m []\n\u001b[0;32m    720\u001b[0m \u001b[39mfor\u001b[39;00m key, index \u001b[39min\u001b[39;00m \u001b[39mzip\u001b[39m(hlevel, indexes):\n\u001b[0;32m    721\u001b[0m     \u001b[39m# Find matching codes, include matching nan values as equal.\u001b[39;00m\n\u001b[1;32m--> 722\u001b[0m     mask \u001b[39m=\u001b[39m (isna(level) \u001b[39m&\u001b[39m isna(key)) \u001b[39m|\u001b[39m (level \u001b[39m==\u001b[39;49m key)\n\u001b[0;32m    723\u001b[0m     \u001b[39mif\u001b[39;00m \u001b[39mnot\u001b[39;00m mask\u001b[39m.\u001b[39many():\n\u001b[0;32m    724\u001b[0m         \u001b[39mraise\u001b[39;00m \u001b[39mValueError\u001b[39;00m(\u001b[39mf\u001b[39m\u001b[39m\"\u001b[39m\u001b[39mKey \u001b[39m\u001b[39m{\u001b[39;00mkey\u001b[39m}\u001b[39;00m\u001b[39m not in level \u001b[39m\u001b[39m{\u001b[39;00mlevel\u001b[39m}\u001b[39;00m\u001b[39m\"\u001b[39m)\n",
      "File \u001b[1;32mc:\\Users\\pon00\\AppData\\Local\\Programs\\Python\\Python310\\lib\\site-packages\\pandas\\core\\ops\\common.py:55\u001b[0m, in \u001b[0;36m_unpack_zerodim_and_defer.<locals>.new_method\u001b[1;34m(self, other)\u001b[0m\n\u001b[0;32m     38\u001b[0m \u001b[39m\"\"\"\u001b[39;00m\n\u001b[0;32m     39\u001b[0m \u001b[39mBoilerplate for pandas conventions in arithmetic and comparison methods.\u001b[39;00m\n\u001b[0;32m     40\u001b[0m \n\u001b[1;32m   (...)\u001b[0m\n\u001b[0;32m     51\u001b[0m \u001b[39mmethod\u001b[39;00m\n\u001b[0;32m     52\u001b[0m \u001b[39m\"\"\"\u001b[39;00m\n\u001b[0;32m     53\u001b[0m is_cmp \u001b[39m=\u001b[39m name\u001b[39m.\u001b[39mstrip(\u001b[39m\"\u001b[39m\u001b[39m__\u001b[39m\u001b[39m\"\u001b[39m) \u001b[39min\u001b[39;00m {\u001b[39m\"\u001b[39m\u001b[39meq\u001b[39m\u001b[39m\"\u001b[39m, \u001b[39m\"\u001b[39m\u001b[39mne\u001b[39m\u001b[39m\"\u001b[39m, \u001b[39m\"\u001b[39m\u001b[39mlt\u001b[39m\u001b[39m\"\u001b[39m, \u001b[39m\"\u001b[39m\u001b[39mle\u001b[39m\u001b[39m\"\u001b[39m, \u001b[39m\"\u001b[39m\u001b[39mgt\u001b[39m\u001b[39m\"\u001b[39m, \u001b[39m\"\u001b[39m\u001b[39mge\u001b[39m\u001b[39m\"\u001b[39m}\n\u001b[1;32m---> 55\u001b[0m \u001b[39m@wraps\u001b[39m(method)\n\u001b[0;32m     56\u001b[0m \u001b[39mdef\u001b[39;00m \u001b[39mnew_method\u001b[39m(\u001b[39mself\u001b[39m, other):\n\u001b[0;32m     58\u001b[0m     \u001b[39mif\u001b[39;00m is_cmp \u001b[39mand\u001b[39;00m \u001b[39misinstance\u001b[39m(\u001b[39mself\u001b[39m, ABCIndex) \u001b[39mand\u001b[39;00m \u001b[39misinstance\u001b[39m(other, ABCSeries):\n\u001b[0;32m     59\u001b[0m         \u001b[39m# For comparison ops, Index does *not* defer to Series\u001b[39;00m\n\u001b[0;32m     60\u001b[0m         \u001b[39mpass\u001b[39;00m\n",
      "\u001b[1;31mKeyboardInterrupt\u001b[0m: "
     ]
    }
   ],
   "source": [
    "groups=pc_df.groupby(\"Merchant\")[\"Amount\"].nlargest(2)"
   ]
  },
  {
   "cell_type": "code",
   "execution_count": null,
   "metadata": {},
   "outputs": [],
   "source": []
  }
 ],
 "metadata": {
  "kernelspec": {
   "display_name": "Python 3.10.7 64-bit",
   "language": "python",
   "name": "python3"
  },
  "language_info": {
   "codemirror_mode": {
    "name": "ipython",
    "version": 3
   },
   "file_extension": ".py",
   "mimetype": "text/x-python",
   "name": "python",
   "nbconvert_exporter": "python",
   "pygments_lexer": "ipython3",
   "version": "3.10.7"
  },
  "orig_nbformat": 4,
  "vscode": {
   "interpreter": {
    "hash": "a8b03762d801d2d52e123cfc3f663859f9a6021c61c35846777048d6be2ff474"
   }
  }
 },
 "nbformat": 4,
 "nbformat_minor": 2
}
