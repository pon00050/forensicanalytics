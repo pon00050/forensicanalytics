{
 "cells": [
  {
   "cell_type": "markdown",
   "metadata": {},
   "source": [
    "## Relative Size Factor"
   ]
  },
  {
   "cell_type": "markdown",
   "metadata": {},
   "source": [
    "#### Getting the data ready"
   ]
  },
  {
   "cell_type": "code",
   "execution_count": 1,
   "metadata": {},
   "outputs": [
    {
     "data": {
      "text/html": [
       "<div>\n",
       "<style scoped>\n",
       "    .dataframe tbody tr th:only-of-type {\n",
       "        vertical-align: middle;\n",
       "    }\n",
       "\n",
       "    .dataframe tbody tr th {\n",
       "        vertical-align: top;\n",
       "    }\n",
       "\n",
       "    .dataframe thead th {\n",
       "        text-align: right;\n",
       "    }\n",
       "</style>\n",
       "<table border=\"1\" class=\"dataframe\">\n",
       "  <thead>\n",
       "    <tr style=\"text-align: right;\">\n",
       "      <th></th>\n",
       "      <th>Date</th>\n",
       "      <th>Amount</th>\n",
       "      <th>Merchant</th>\n",
       "      <th>State</th>\n",
       "      <th>Description</th>\n",
       "      <th>Agency</th>\n",
       "    </tr>\n",
       "  </thead>\n",
       "  <tbody>\n",
       "    <tr>\n",
       "      <th>0</th>\n",
       "      <td>2009-01-02</td>\n",
       "      <td>1700.00</td>\n",
       "      <td>WASHINGTON HISPANIC</td>\n",
       "      <td>MD</td>\n",
       "      <td>Advertising Services</td>\n",
       "      <td>Department of Motor Vehicles</td>\n",
       "    </tr>\n",
       "    <tr>\n",
       "      <th>1</th>\n",
       "      <td>2009-01-02</td>\n",
       "      <td>23.16</td>\n",
       "      <td>STAPLES DIRECT00209908</td>\n",
       "      <td>CA</td>\n",
       "      <td>Stationery,Office Supplies,Printing/Writing Paper</td>\n",
       "      <td>Metropolitan Police Department</td>\n",
       "    </tr>\n",
       "    <tr>\n",
       "      <th>2</th>\n",
       "      <td>2009-01-02</td>\n",
       "      <td>9.48</td>\n",
       "      <td>AMAZON.COM</td>\n",
       "      <td>WA</td>\n",
       "      <td>Book Stores</td>\n",
       "      <td>Department of Property Management</td>\n",
       "    </tr>\n",
       "    <tr>\n",
       "      <th>3</th>\n",
       "      <td>2009-01-02</td>\n",
       "      <td>24.61</td>\n",
       "      <td>FEDEX KINKO'S #0671</td>\n",
       "      <td>DC</td>\n",
       "      <td>Quick-Copy, Reproduction and Blueprinting Serv...</td>\n",
       "      <td>Fire &amp; Emergency Medical Services</td>\n",
       "    </tr>\n",
       "    <tr>\n",
       "      <th>4</th>\n",
       "      <td>2009-01-02</td>\n",
       "      <td>31.65</td>\n",
       "      <td>J&amp;R SOUND/MAILORDER</td>\n",
       "      <td>NY</td>\n",
       "      <td>Direct Marketing - Catalog Merchants</td>\n",
       "      <td>Office of the State Superintendent of Education</td>\n",
       "    </tr>\n",
       "  </tbody>\n",
       "</table>\n",
       "</div>"
      ],
      "text/plain": [
       "        Date   Amount                Merchant State  \\\n",
       "0 2009-01-02  1700.00     WASHINGTON HISPANIC    MD   \n",
       "1 2009-01-02    23.16  STAPLES DIRECT00209908    CA   \n",
       "2 2009-01-02     9.48              AMAZON.COM    WA   \n",
       "3 2009-01-02    24.61     FEDEX KINKO'S #0671    DC   \n",
       "4 2009-01-02    31.65     J&R SOUND/MAILORDER    NY   \n",
       "\n",
       "                                         Description  \\\n",
       "0                               Advertising Services   \n",
       "1  Stationery,Office Supplies,Printing/Writing Paper   \n",
       "2                                        Book Stores   \n",
       "3  Quick-Copy, Reproduction and Blueprinting Serv...   \n",
       "4               Direct Marketing - Catalog Merchants   \n",
       "\n",
       "                                            Agency  \n",
       "0                     Department of Motor Vehicles  \n",
       "1                   Metropolitan Police Department  \n",
       "2                Department of Property Management  \n",
       "3                Fire & Emergency Medical Services  \n",
       "4  Office of the State Superintendent of Education  "
      ]
     },
     "execution_count": 1,
     "metadata": {},
     "output_type": "execute_result"
    }
   ],
   "source": [
    "import pandas as pd\n",
    "pc_df = pd.read_excel(\"PCard_Data2009-2014.xlsx\")\n",
    "pc_df['Amount'] = pc_df['Amount'].abs()\n",
    "pc_df['Description'] = pc_df['Description'].str.replace(', Not Elsewhere Classified','')\n",
    "pc_df['Description'] = pc_df['Description'].str.replace('Not Elsewhere Classified','')\n",
    "pc_df.head()"
   ]
  },
  {
   "cell_type": "markdown",
   "metadata": {},
   "source": [
    "#### Simple Demonstration of the idea"
   ]
  },
  {
   "cell_type": "markdown",
   "metadata": {},
   "source": [
    "Create a list of numbers <br>\n",
    "Using sort(), the numbers are sorted in ascending order. <br>\n",
    "Using indexing, get the biggest number and the next big number. <br>\n",
    "Divide the biggest number by the next big number <br>"
   ]
  },
  {
   "cell_type": "code",
   "execution_count": 2,
   "metadata": {},
   "outputs": [
    {
     "name": "stdout",
     "output_type": "stream",
     "text": [
      "40.0\n"
     ]
    }
   ],
   "source": [
    "\n",
    "numbers = [8000,200,200,150]\n",
    "numbers.sort()\n",
    "Largest = numbers[-1]\n",
    "Semi_Largest = numbers[-2]\n",
    "RSF = Largest/Semi_Largest\n",
    "print(RSF)"
   ]
  },
  {
   "cell_type": "markdown",
   "metadata": {},
   "source": [
    "Let's find the RSF for one vendor."
   ]
  },
  {
   "cell_type": "code",
   "execution_count": 3,
   "metadata": {},
   "outputs": [
    {
     "data": {
      "text/html": [
       "<div>\n",
       "<style scoped>\n",
       "    .dataframe tbody tr th:only-of-type {\n",
       "        vertical-align: middle;\n",
       "    }\n",
       "\n",
       "    .dataframe tbody tr th {\n",
       "        vertical-align: top;\n",
       "    }\n",
       "\n",
       "    .dataframe thead th {\n",
       "        text-align: right;\n",
       "    }\n",
       "</style>\n",
       "<table border=\"1\" class=\"dataframe\">\n",
       "  <thead>\n",
       "    <tr style=\"text-align: right;\">\n",
       "      <th></th>\n",
       "      <th>Date</th>\n",
       "      <th>Amount</th>\n",
       "      <th>Merchant</th>\n",
       "      <th>State</th>\n",
       "      <th>Description</th>\n",
       "      <th>Agency</th>\n",
       "    </tr>\n",
       "  </thead>\n",
       "  <tbody>\n",
       "    <tr>\n",
       "      <th>0</th>\n",
       "      <td>2009-01-02</td>\n",
       "      <td>1700.0</td>\n",
       "      <td>WASHINGTON HISPANIC</td>\n",
       "      <td>MD</td>\n",
       "      <td>Advertising Services</td>\n",
       "      <td>Department of Motor Vehicles</td>\n",
       "    </tr>\n",
       "    <tr>\n",
       "      <th>27407</th>\n",
       "      <td>2009-12-16</td>\n",
       "      <td>2700.0</td>\n",
       "      <td>WASHINGTON HISPANIC</td>\n",
       "      <td>MD</td>\n",
       "      <td>Advertising Services</td>\n",
       "      <td>Office of Human Rights</td>\n",
       "    </tr>\n",
       "    <tr>\n",
       "      <th>40860</th>\n",
       "      <td>2010-05-28</td>\n",
       "      <td>350.0</td>\n",
       "      <td>WASHINGTON HISPANIC</td>\n",
       "      <td>MD</td>\n",
       "      <td>Advertising Services</td>\n",
       "      <td>Office of the Tenant Advocate</td>\n",
       "    </tr>\n",
       "    <tr>\n",
       "      <th>64337</th>\n",
       "      <td>2011-02-08</td>\n",
       "      <td>750.0</td>\n",
       "      <td>WASHINGTON HISPANIC</td>\n",
       "      <td>MD</td>\n",
       "      <td>News Dealers &amp; Newsstands</td>\n",
       "      <td>Commission on Arts &amp; Humanities</td>\n",
       "    </tr>\n",
       "    <tr>\n",
       "      <th>71560</th>\n",
       "      <td>2011-04-26</td>\n",
       "      <td>700.0</td>\n",
       "      <td>WASHINGTON HISPANIC</td>\n",
       "      <td>MD</td>\n",
       "      <td>News Dealers &amp; Newsstands</td>\n",
       "      <td>Commission on Arts &amp; Humanities</td>\n",
       "    </tr>\n",
       "    <tr>\n",
       "      <th>81239</th>\n",
       "      <td>2011-08-11</td>\n",
       "      <td>300.0</td>\n",
       "      <td>WASHINGTON HISPANIC</td>\n",
       "      <td>MD</td>\n",
       "      <td>News Dealers &amp; Newsstands</td>\n",
       "      <td>DC Public Library</td>\n",
       "    </tr>\n",
       "    <tr>\n",
       "      <th>98559</th>\n",
       "      <td>2012-02-08</td>\n",
       "      <td>700.0</td>\n",
       "      <td>WASHINGTON HISPANIC</td>\n",
       "      <td>MD</td>\n",
       "      <td>News Dealers &amp; Newsstands</td>\n",
       "      <td>Office of the Secretary</td>\n",
       "    </tr>\n",
       "    <tr>\n",
       "      <th>127387</th>\n",
       "      <td>2012-12-19</td>\n",
       "      <td>250.0</td>\n",
       "      <td>WASHINGTON HISPANIC</td>\n",
       "      <td>MD</td>\n",
       "      <td>News Dealers &amp; Newsstands</td>\n",
       "      <td>Department on Disability Services</td>\n",
       "    </tr>\n",
       "    <tr>\n",
       "      <th>143759</th>\n",
       "      <td>2013-06-25</td>\n",
       "      <td>800.0</td>\n",
       "      <td>WASHINGTON HISPANIC</td>\n",
       "      <td>MD</td>\n",
       "      <td>News Dealers &amp; Newsstands</td>\n",
       "      <td>District Department of Transportation</td>\n",
       "    </tr>\n",
       "    <tr>\n",
       "      <th>153093</th>\n",
       "      <td>2013-09-30</td>\n",
       "      <td>120.0</td>\n",
       "      <td>WASHINGTON HISPANIC</td>\n",
       "      <td>MD</td>\n",
       "      <td>News Dealers &amp; Newsstands</td>\n",
       "      <td>OFFICE OF PEOPLE'S COUNSEL</td>\n",
       "    </tr>\n",
       "    <tr>\n",
       "      <th>167515</th>\n",
       "      <td>2014-04-08</td>\n",
       "      <td>700.0</td>\n",
       "      <td>WASHINGTON HISPANIC</td>\n",
       "      <td>MD</td>\n",
       "      <td>News Dealers &amp; Newsstands</td>\n",
       "      <td>DC Public Library</td>\n",
       "    </tr>\n",
       "    <tr>\n",
       "      <th>173511</th>\n",
       "      <td>2014-06-10</td>\n",
       "      <td>277.0</td>\n",
       "      <td>WASHINGTON HISPANIC</td>\n",
       "      <td>MD</td>\n",
       "      <td>News Dealers &amp; Newsstands</td>\n",
       "      <td>DC Public Library</td>\n",
       "    </tr>\n",
       "    <tr>\n",
       "      <th>177215</th>\n",
       "      <td>2014-07-17</td>\n",
       "      <td>1800.0</td>\n",
       "      <td>WASHINGTON HISPANIC</td>\n",
       "      <td>MD</td>\n",
       "      <td>News Dealers &amp; Newsstands</td>\n",
       "      <td>Department of Parks &amp; Recreation</td>\n",
       "    </tr>\n",
       "    <tr>\n",
       "      <th>184550</th>\n",
       "      <td>2014-09-18</td>\n",
       "      <td>336.0</td>\n",
       "      <td>WASHINGTON HISPANIC</td>\n",
       "      <td>MD</td>\n",
       "      <td>News Dealers &amp; Newsstands</td>\n",
       "      <td>DC Public Library</td>\n",
       "    </tr>\n",
       "  </tbody>\n",
       "</table>\n",
       "</div>"
      ],
      "text/plain": [
       "             Date  Amount             Merchant State  \\\n",
       "0      2009-01-02  1700.0  WASHINGTON HISPANIC    MD   \n",
       "27407  2009-12-16  2700.0  WASHINGTON HISPANIC    MD   \n",
       "40860  2010-05-28   350.0  WASHINGTON HISPANIC    MD   \n",
       "64337  2011-02-08   750.0  WASHINGTON HISPANIC    MD   \n",
       "71560  2011-04-26   700.0  WASHINGTON HISPANIC    MD   \n",
       "81239  2011-08-11   300.0  WASHINGTON HISPANIC    MD   \n",
       "98559  2012-02-08   700.0  WASHINGTON HISPANIC    MD   \n",
       "127387 2012-12-19   250.0  WASHINGTON HISPANIC    MD   \n",
       "143759 2013-06-25   800.0  WASHINGTON HISPANIC    MD   \n",
       "153093 2013-09-30   120.0  WASHINGTON HISPANIC    MD   \n",
       "167515 2014-04-08   700.0  WASHINGTON HISPANIC    MD   \n",
       "173511 2014-06-10   277.0  WASHINGTON HISPANIC    MD   \n",
       "177215 2014-07-17  1800.0  WASHINGTON HISPANIC    MD   \n",
       "184550 2014-09-18   336.0  WASHINGTON HISPANIC    MD   \n",
       "\n",
       "                      Description                                 Agency  \n",
       "0            Advertising Services           Department of Motor Vehicles  \n",
       "27407        Advertising Services                 Office of Human Rights  \n",
       "40860        Advertising Services          Office of the Tenant Advocate  \n",
       "64337   News Dealers & Newsstands        Commission on Arts & Humanities  \n",
       "71560   News Dealers & Newsstands        Commission on Arts & Humanities  \n",
       "81239   News Dealers & Newsstands                      DC Public Library  \n",
       "98559   News Dealers & Newsstands                Office of the Secretary  \n",
       "127387  News Dealers & Newsstands      Department on Disability Services  \n",
       "143759  News Dealers & Newsstands  District Department of Transportation  \n",
       "153093  News Dealers & Newsstands             OFFICE OF PEOPLE'S COUNSEL  \n",
       "167515  News Dealers & Newsstands                      DC Public Library  \n",
       "173511  News Dealers & Newsstands                      DC Public Library  \n",
       "177215  News Dealers & Newsstands       Department of Parks & Recreation  \n",
       "184550  News Dealers & Newsstands                      DC Public Library  "
      ]
     },
     "execution_count": 3,
     "metadata": {},
     "output_type": "execute_result"
    }
   ],
   "source": [
    "# Filter the existing dataframe to retrieve rows that has \"Washington Hispanic\" for the Merchant column\n",
    "pc_df.loc[pc_df['Merchant'] == 'WASHINGTON HISPANIC']"
   ]
  },
  {
   "cell_type": "code",
   "execution_count": 4,
   "metadata": {},
   "outputs": [],
   "source": [
    "# Create a dataframe that contains only the rows filtered in the above step.\n",
    "single_RSF_df = pc_df.loc[pc_df['Merchant'] == 'WASHINGTON HISPANIC']"
   ]
  },
  {
   "cell_type": "markdown",
   "metadata": {},
   "source": [
    "DataFrame.nlargest returns the first rows ordered by columns in descending order, <br> meaning the biggest numbers at the top."
   ]
  },
  {
   "cell_type": "code",
   "execution_count": 5,
   "metadata": {},
   "outputs": [
    {
     "data": {
      "text/plain": [
       "27407     2700.0\n",
       "177215    1800.0\n",
       "Name: Amount, dtype: float64"
      ]
     },
     "execution_count": 5,
     "metadata": {},
     "output_type": "execute_result"
    }
   ],
   "source": [
    "# This returns the two highest numbers\n",
    "single_RSF_df['Amount'].nlargest(2)"
   ]
  },
  {
   "cell_type": "code",
   "execution_count": 6,
   "metadata": {},
   "outputs": [
    {
     "data": {
      "text/plain": [
       "1.5"
      ]
     },
     "execution_count": 6,
     "metadata": {},
     "output_type": "execute_result"
    }
   ],
   "source": [
    "RSF = single_RSF_df['Amount'].nlargest(2).values[0]/single_RSF_df['Amount'].nlargest(2).values[1]\n",
    "RSF"
   ]
  },
  {
   "cell_type": "markdown",
   "metadata": {},
   "source": [
    "Let's check the work."
   ]
  },
  {
   "cell_type": "code",
   "execution_count": 7,
   "metadata": {},
   "outputs": [
    {
     "data": {
      "text/plain": [
       "0         1700.0\n",
       "27407     2700.0\n",
       "40860      350.0\n",
       "64337      750.0\n",
       "71560      700.0\n",
       "81239      300.0\n",
       "98559      700.0\n",
       "127387     250.0\n",
       "143759     800.0\n",
       "153093     120.0\n",
       "167515     700.0\n",
       "173511     277.0\n",
       "177215    1800.0\n",
       "184550     336.0\n",
       "Name: Amount, dtype: float64"
      ]
     },
     "execution_count": 7,
     "metadata": {},
     "output_type": "execute_result"
    }
   ],
   "source": [
    "single_RSF_df['Amount']"
   ]
  },
  {
   "cell_type": "code",
   "execution_count": 8,
   "metadata": {},
   "outputs": [
    {
     "data": {
      "text/plain": [
       "1.5"
      ]
     },
     "execution_count": 8,
     "metadata": {},
     "output_type": "execute_result"
    }
   ],
   "source": [
    "2700/1800"
   ]
  },
  {
   "cell_type": "markdown",
   "metadata": {},
   "source": [
    "Complications that weren't accounted for this time. <br>\n",
    "* Delete amounts equal to or lower than zero  <br>( I actually took the absolute value of the amounts this time around.) <br>\n",
    "* Delete all the subsets with only one record\n",
    "* Account for subsets where the largest and the second largest numbers are equal."
   ]
  },
  {
   "cell_type": "markdown",
   "metadata": {},
   "source": [
    "In addition to the Relative Size Factor, <br>\n",
    "one could also try writing functions for the following <br>\n",
    "* the largest amount divided by the average amount <br>\n",
    "* the largest amount divided by the average amount where the average excludes the largest number\n",
    "* the smallest number divided by the average (used when trying to identify understatements)"
   ]
  },
  {
   "cell_type": "markdown",
   "metadata": {},
   "source": []
  },
  {
   "cell_type": "code",
   "execution_count": null,
   "metadata": {},
   "outputs": [],
   "source": []
  }
 ],
 "metadata": {
  "kernelspec": {
   "display_name": "Python 3.10.7 64-bit",
   "language": "python",
   "name": "python3"
  },
  "language_info": {
   "codemirror_mode": {
    "name": "ipython",
    "version": 3
   },
   "file_extension": ".py",
   "mimetype": "text/x-python",
   "name": "python",
   "nbconvert_exporter": "python",
   "pygments_lexer": "ipython3",
   "version": "3.10.7"
  },
  "orig_nbformat": 4,
  "vscode": {
   "interpreter": {
    "hash": "a8b03762d801d2d52e123cfc3f663859f9a6021c61c35846777048d6be2ff474"
   }
  }
 },
 "nbformat": 4,
 "nbformat_minor": 2
}
